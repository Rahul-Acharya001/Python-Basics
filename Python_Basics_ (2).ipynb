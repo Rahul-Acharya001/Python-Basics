{
  "nbformat": 4,
  "nbformat_minor": 0,
  "metadata": {
    "colab": {
      "provenance": []
    },
    "kernelspec": {
      "name": "python3",
      "display_name": "Python 3"
    },
    "language_info": {
      "name": "python"
    }
  },
  "cells": [
    {
      "cell_type": "code",
      "execution_count": null,
      "metadata": {
        "id": "mCcEnI6wufHy"
      },
      "outputs": [],
      "source": [
        "\n"
      ]
    },
    {
      "cell_type": "markdown",
      "source": [
        "# Python Basics"
      ],
      "metadata": {
        "id": "rBXR1ablar0S"
      }
    },
    {
      "cell_type": "markdown",
      "source": [
        "#Theoraetical question"
      ],
      "metadata": {
        "id": "8HZDyBHdW7Z1"
      }
    },
    {
      "cell_type": "markdown",
      "source": [
        "1. What is Python, and why is it popular ?\n",
        "   - Python  is a programming language that's used for manhy tasks , including web development , data science  and software development .\n",
        "   It is known for its simplicity redability and versatality .It is a object oriented programming language .\n",
        "   that's are the most common factor that's why it is popular .\n",
        "   a. a lots of libraires about 13700.\n",
        "   b. easy to learn\n",
        "   c.stable and flexible\n",
        "   d. well situated for AI and ML application .\n",
        "\n",
        "\n",
        "2. What is an interpreter in Python ?\n",
        "  - A Python interpreter is a program that reads and executes Python code, line by line , without any need to be compiled first, it can run python code from a script file or interactively .\n",
        "\n",
        "3. What are pre- defined keywords in Python ?\n",
        "    - Keywords are predefine words that hold a special meaning and have specific purpose in python programming .\n",
        "eg. False, Elif ,else ,class ,True , class , break ,and , for ,is etc .\n",
        "\n",
        "4. Can keywords be used as variable names ?\n",
        "    - In Python , Keywords are case sensitive and can't be used as variable names . funtion names , or any other identifiers.\n",
        "\n",
        "5. What is mutability in Python ?\n",
        "   - Mutabilty refers to whether an objects value can be changed after it's creation in other words they are changeable .\n",
        "\n",
        "6. Why are lists mutable, but tuples are immutable ?\n",
        "    - The main difference between tuples and lists is that tuples are immutable means their contents can't be changed after creation , while lists are mutable and can be modified .\n",
        "7. What is the difference between “==” and “is” operators in Python       \n",
        "    - Difference between the equality opearator and identity operator .\n",
        "      the equality operator helps us compare the equality of\n",
        "      objects or the value of two objects are the very much same.\n",
        "      and \"is\" opearator helps us check whether different variable points towards a similar objects in the memory .\n",
        "\n",
        "8. What are the logical opearators in python .\n",
        "  - The logical operators in python are also known as boolen opearator and or & not .\n",
        "  These  opearators evaluate multiple conditions and determine an expression's over all truth value .\n",
        "\n",
        "9. What is type casting in Python ?\n",
        "The process of changing the data type of a value or objects in python is called type casting .\n",
        "\n",
        " .e.g\n",
        "  -  integer to float value 3 to 3.0\n",
        "  - float to integer   6.8 to 3  \n",
        "\n",
        "10. What is the difference between implicit and explicit type casting ?\n",
        "\n",
        "a. implicit tye casting : -> Where Python automatically converts one data type\n",
        "  to another to prevent data loss or errors.\n",
        "\n",
        " b. Explicit data type casting :-> Where the programmers manually converts one data type into another .\n",
        "\n",
        "11.  What is the purpose of conditional statements in Python ?\n",
        "\n",
        "- In Python condtional statements helps us to code decisions based on some pre conditions .\n",
        "conditinal statements are used to control the flow of program by allowing different blocks of code to be executed based on weather certain conditions are true or false .\n",
        "e.g - if , if- else .\n",
        "\n",
        "12. how does the elif statements works ?\n",
        "   - It is stands for \"else if \" It can be used in conditional statements to check for multiple conditions.\n",
        "-> eg- If the first condition is false it moves on to the next \"elif\" statement to check if that condition is true .\n",
        "\n",
        "eg-> elif\n",
        "   - a=10\n",
        "   - if a >100: print(\" This block will be executed if a is greater than 100 \" )\n",
        "  - elif a < 100 : print(\" This block will be executed if a is less than 100\")\n",
        "  - else :\n",
        "         print ( \"The number is equals to 100 \" )\n",
        "\n",
        "13. What is the difference between  for and while loops ?\n",
        "- For loop - > iterate over a sequence of elements >> string, list .\n",
        "it repeat executing a code block from a sequence till certain numbers of times .\n",
        "- While loop ->  It repeatedly executed a block of code untill a condition is met.\n",
        "14. Describe the Senerio where a While loop is more suitable than a for loop.\n",
        "  - For loop -> A for loop is a control flow statement that executes code repeatedly for a particular number of iterations in this control statements , the keyword used is for .\n",
        "  The For loop is used when the number of iterations is already known .\n",
        "\n",
        "  - While loop -> A loop that executes a single statements or a group of statement for the given true condtions . The keyword used to represent this loop is While. A while loop  is used when the numbers of iterations is unkonwn . The statements repeats itself till the boolen value becomes false .\n",
        "\n",
        "\n",
        "  - on other hands\n",
        "   ->The while is used when you don't know in advance how many times you want to execute the block of code . If continue to execute as long as the specified condition is true .\n",
        "\n",
        "\n",
        "\n",
        "\n",
        "\n",
        "   \n",
        "\n"
      ],
      "metadata": {
        "id": "iUCuZ13qf3fl"
      }
    },
    {
      "cell_type": "markdown",
      "source": [
        "# Practical /questions\n"
      ],
      "metadata": {
        "id": "29_IvBXIYqO_"
      }
    },
    {
      "cell_type": "markdown",
      "source": [
        "1. 8 Write a Python program to print \"Hello, World!"
      ],
      "metadata": {
        "id": "5JyrwJ6sY13o"
      }
    },
    {
      "cell_type": "code",
      "source": [
        "print(\"Hello, World!\")"
      ],
      "metadata": {
        "colab": {
          "base_uri": "https://localhost:8080/"
        },
        "id": "nj0KgvKhY07E",
        "outputId": "f221b6c3-5ab5-4216-9a5d-ae64ec948224"
      },
      "execution_count": null,
      "outputs": [
        {
          "output_type": "stream",
          "name": "stdout",
          "text": [
            "Hello, World!\n"
          ]
        }
      ]
    },
    {
      "cell_type": "markdown",
      "source": [
        "2. Write a Python program that displays your name and age .\n"
      ],
      "metadata": {
        "id": "YhvkedjaZiU8"
      }
    },
    {
      "cell_type": "code",
      "source": [
        "age= input(\"28\")\n",
        "name= input(\"Rahul Acharya\")\n",
        "print(age+ name)\n"
      ],
      "metadata": {
        "colab": {
          "base_uri": "https://localhost:8080/"
        },
        "id": "kJP87lAnbko8",
        "outputId": "679785aa-1621-4831-cefb-3fb9cb3ffd72"
      },
      "execution_count": null,
      "outputs": [
        {
          "output_type": "stream",
          "name": "stdout",
          "text": [
            "28\n",
            "Rahul Acharya\n",
            "\n"
          ]
        }
      ]
    },
    {
      "cell_type": "markdown",
      "source": [
        "3. Write code to print all the pre-defined keywords in Python using the keyword library.\n"
      ],
      "metadata": {
        "id": "I2IObw_ydUjv"
      }
    },
    {
      "cell_type": "code",
      "source": [
        "help('keywords')"
      ],
      "metadata": {
        "colab": {
          "base_uri": "https://localhost:8080/"
        },
        "id": "VWGlpb8SdmVt",
        "outputId": "daf092c4-a1d3-438a-e7be-2fad796b8fed"
      },
      "execution_count": null,
      "outputs": [
        {
          "output_type": "stream",
          "name": "stdout",
          "text": [
            "\n",
            "Here is a list of the Python keywords.  Enter any keyword to get more help.\n",
            "\n",
            "False               class               from                or\n",
            "None                continue            global              pass\n",
            "True                def                 if                  raise\n",
            "and                 del                 import              return\n",
            "as                  elif                in                  try\n",
            "assert              else                is                  while\n",
            "async               except              lambda              with\n",
            "await               finally             nonlocal            yield\n",
            "break               for                 not                 \n",
            "\n"
          ]
        }
      ]
    },
    {
      "cell_type": "markdown",
      "source": [
        "4. Write a program that checks if a given word is a Python keyword."
      ],
      "metadata": {
        "id": "I7WXeQrpfzGq"
      }
    },
    {
      "cell_type": "code",
      "source": [
        "if 3>1:\n",
        "  print(\"greater\")\n"
      ],
      "metadata": {
        "colab": {
          "base_uri": "https://localhost:8080/"
        },
        "id": "28tnnTbXeI9x",
        "outputId": "4e652b60-d320-4ec6-815e-855fd4d07bc9"
      },
      "execution_count": null,
      "outputs": [
        {
          "output_type": "stream",
          "name": "stdout",
          "text": [
            "greater\n"
          ]
        }
      ]
    },
    {
      "cell_type": "markdown",
      "source": [
        "5. Create a list and tuple in Python, and demonstrate how attempting to change an element works differently\n",
        "for each."
      ],
      "metadata": {
        "id": "QY7InBolhjLa"
      }
    },
    {
      "cell_type": "markdown",
      "source": [],
      "metadata": {
        "id": "83g_HXXieIgN"
      }
    },
    {
      "cell_type": "code",
      "source": [
        "list_cont=[1,2,3 ,4.3, 3+5j, True, \"Ajay\"]\n",
        "list_cont[6]=\"Bijay\"\n",
        "list_cont\n",
        "\n",
        "# List are the mutable , i.e can be modified once created.\n",
        "\n"
      ],
      "metadata": {
        "colab": {
          "base_uri": "https://localhost:8080/"
        },
        "id": "wD22GIRPhuR-",
        "outputId": "f7054e9b-7ee8-4db4-84ca-dabfc810a275"
      },
      "execution_count": null,
      "outputs": [
        {
          "output_type": "execute_result",
          "data": {
            "text/plain": [
              "[1, 2, 3, 4.3, (3+5j), True, 'Bijay']"
            ]
          },
          "metadata": {},
          "execution_count": 36
        }
      ]
    },
    {
      "cell_type": "code",
      "source": [
        "tuple =(\"Ram\", 12, 3.40)\n",
        "print(tuple)\n",
        "tuple[1] = 20\n",
        "tuple\n",
        "\n",
        "# Tuples are immutable , i.e can't be modified once created .\n"
      ],
      "metadata": {
        "colab": {
          "base_uri": "https://localhost:8080/",
          "height": 228
        },
        "id": "4BKcmUKRpAgm",
        "outputId": "3a789cc8-fc9e-434b-8de6-070a1b286696"
      },
      "execution_count": null,
      "outputs": [
        {
          "output_type": "stream",
          "name": "stdout",
          "text": [
            "('Ram', 12, 3.4)\n"
          ]
        },
        {
          "output_type": "error",
          "ename": "TypeError",
          "evalue": "'tuple' object does not support item assignment",
          "traceback": [
            "\u001b[0;31m---------------------------------------------------------------------------\u001b[0m",
            "\u001b[0;31mTypeError\u001b[0m                                 Traceback (most recent call last)",
            "\u001b[0;32m<ipython-input-56-848db9917929>\u001b[0m in \u001b[0;36m<cell line: 0>\u001b[0;34m()\u001b[0m\n\u001b[1;32m      1\u001b[0m \u001b[0mtuple\u001b[0m \u001b[0;34m=\u001b[0m\u001b[0;34m(\u001b[0m\u001b[0;34m\"Ram\"\u001b[0m\u001b[0;34m,\u001b[0m \u001b[0;36m12\u001b[0m\u001b[0;34m,\u001b[0m \u001b[0;36m3.40\u001b[0m\u001b[0;34m)\u001b[0m\u001b[0;34m\u001b[0m\u001b[0;34m\u001b[0m\u001b[0m\n\u001b[1;32m      2\u001b[0m \u001b[0mprint\u001b[0m\u001b[0;34m(\u001b[0m\u001b[0mtuple\u001b[0m\u001b[0;34m)\u001b[0m\u001b[0;34m\u001b[0m\u001b[0;34m\u001b[0m\u001b[0m\n\u001b[0;32m----> 3\u001b[0;31m \u001b[0mtuple\u001b[0m\u001b[0;34m[\u001b[0m\u001b[0;36m1\u001b[0m\u001b[0;34m]\u001b[0m \u001b[0;34m=\u001b[0m \u001b[0;36m20\u001b[0m\u001b[0;34m\u001b[0m\u001b[0;34m\u001b[0m\u001b[0m\n\u001b[0m\u001b[1;32m      4\u001b[0m \u001b[0mtuple\u001b[0m\u001b[0;34m\u001b[0m\u001b[0;34m\u001b[0m\u001b[0m\n\u001b[1;32m      5\u001b[0m \u001b[0;34m\u001b[0m\u001b[0m\n",
            "\u001b[0;31mTypeError\u001b[0m: 'tuple' object does not support item assignment"
          ]
        }
      ]
    },
    {
      "cell_type": "markdown",
      "source": [
        "6. Write a function to demonstrate the behavior of mutable and immutable arguments"
      ],
      "metadata": {
        "id": "swITwxPHtL8r"
      }
    },
    {
      "cell_type": "code",
      "source": [
        "list_cont=[1,2,3 ,4.3, 3+5j, True, \"Ajay\"]\n",
        "list_cont[6]=\"Bijay\"\n",
        "list_cont\n",
        "# List are Mutable"
      ],
      "metadata": {
        "colab": {
          "base_uri": "https://localhost:8080/"
        },
        "id": "11H716N6sXex",
        "outputId": "0a311843-67b3-464a-8b24-cbb5e5a9ec5e"
      },
      "execution_count": null,
      "outputs": [
        {
          "output_type": "execute_result",
          "data": {
            "text/plain": [
              "[1, 2, 3, 4.3, (3+5j), True, 'Bijay']"
            ]
          },
          "metadata": {},
          "execution_count": 59
        }
      ]
    },
    {
      "cell_type": "code",
      "source": [
        "b=\"pwskills\"\n",
        "b\n"
      ],
      "metadata": {
        "colab": {
          "base_uri": "https://localhost:8080/",
          "height": 36
        },
        "id": "27icf1h20CjP",
        "outputId": "2a49afd2-5831-452a-9b39-5dc8313b2433"
      },
      "execution_count": null,
      "outputs": [
        {
          "output_type": "execute_result",
          "data": {
            "text/plain": [
              "'pwskills'"
            ],
            "application/vnd.google.colaboratory.intrinsic+json": {
              "type": "string"
            }
          },
          "metadata": {},
          "execution_count": 62
        }
      ]
    },
    {
      "cell_type": "code",
      "source": [
        "b[0]=s\n",
        "# it gives an error , because string are immutable .\n"
      ],
      "metadata": {
        "colab": {
          "base_uri": "https://localhost:8080/",
          "height": 141
        },
        "id": "R-aDrNNy09SX",
        "outputId": "993d29bf-dd34-400d-b3b6-c00b9c92f206"
      },
      "execution_count": null,
      "outputs": [
        {
          "output_type": "error",
          "ename": "NameError",
          "evalue": "name 's' is not defined",
          "traceback": [
            "\u001b[0;31m---------------------------------------------------------------------------\u001b[0m",
            "\u001b[0;31mNameError\u001b[0m                                 Traceback (most recent call last)",
            "\u001b[0;32m<ipython-input-64-39663017325a>\u001b[0m in \u001b[0;36m<cell line: 0>\u001b[0;34m()\u001b[0m\n\u001b[0;32m----> 1\u001b[0;31m \u001b[0mb\u001b[0m\u001b[0;34m[\u001b[0m\u001b[0;36m0\u001b[0m\u001b[0;34m]\u001b[0m\u001b[0;34m=\u001b[0m\u001b[0ms\u001b[0m\u001b[0;34m\u001b[0m\u001b[0;34m\u001b[0m\u001b[0m\n\u001b[0m",
            "\u001b[0;31mNameError\u001b[0m: name 's' is not defined"
          ]
        }
      ]
    },
    {
      "cell_type": "markdown",
      "source": [
        "7. Write a program that performs basic arithmetic operations on two user-input numbers."
      ],
      "metadata": {
        "id": "wOGro_HO3eEz"
      }
    },
    {
      "cell_type": "code",
      "source": [
        "a=7\n",
        "b=3\n",
        "a+b\n"
      ],
      "metadata": {
        "colab": {
          "base_uri": "https://localhost:8080/"
        },
        "id": "-ouUpWke0_hd",
        "outputId": "0aa47fe0-6864-4f04-9c03-7348b6c4b0bd"
      },
      "execution_count": null,
      "outputs": [
        {
          "output_type": "execute_result",
          "data": {
            "text/plain": [
              "10"
            ]
          },
          "metadata": {},
          "execution_count": 72
        }
      ]
    },
    {
      "cell_type": "code",
      "source": [
        "a*b"
      ],
      "metadata": {
        "colab": {
          "base_uri": "https://localhost:8080/"
        },
        "id": "hwygzuW73dVk",
        "outputId": "e80717d9-7917-4efc-fbbf-16044131a7ec"
      },
      "execution_count": null,
      "outputs": [
        {
          "output_type": "execute_result",
          "data": {
            "text/plain": [
              "21"
            ]
          },
          "metadata": {},
          "execution_count": 70
        }
      ]
    },
    {
      "cell_type": "markdown",
      "source": [],
      "metadata": {
        "id": "FH5z6o-C3caT"
      }
    },
    {
      "cell_type": "markdown",
      "source": [
        "8. Write a program to demonstrate the use of logical operators.\n"
      ],
      "metadata": {
        "id": "9_KBekfCy0wI"
      }
    },
    {
      "cell_type": "code",
      "source": [
        "A= False\n",
        "B= True\n",
        "print(A and B)\n",
        "print(A or B)\n",
        "print(A and A)\n",
        "print(B and B)"
      ],
      "metadata": {
        "colab": {
          "base_uri": "https://localhost:8080/"
        },
        "id": "FJArVX8qy3Ze",
        "outputId": "ea221759-21b2-4e52-dad3-f9570d3869e9"
      },
      "execution_count": null,
      "outputs": [
        {
          "output_type": "stream",
          "name": "stdout",
          "text": [
            "False\n",
            "True\n",
            "False\n",
            "True\n"
          ]
        }
      ]
    },
    {
      "cell_type": "markdown",
      "source": [
        "9. Write a Python program to convert user input from string to integer, float, and boolean types."
      ],
      "metadata": {
        "id": "MjqhoSdU4KYv"
      }
    },
    {
      "cell_type": "code",
      "source": [
        "# string into integer\n",
        "s= \"35\"\n",
        "int(s)\n"
      ],
      "metadata": {
        "colab": {
          "base_uri": "https://localhost:8080/"
        },
        "id": "Sse24sOT41KH",
        "outputId": "b543dab3-7e6f-441e-de20-f90a61dfde2d"
      },
      "execution_count": null,
      "outputs": [
        {
          "output_type": "execute_result",
          "data": {
            "text/plain": [
              "35"
            ]
          },
          "metadata": {},
          "execution_count": 130
        }
      ]
    },
    {
      "cell_type": "code",
      "source": [
        "#String into float\n",
        "float(s)"
      ],
      "metadata": {
        "colab": {
          "base_uri": "https://localhost:8080/"
        },
        "id": "RErcRcp141tL",
        "outputId": "bcb26eab-0713-40fa-a217-a7d437ae20ac"
      },
      "execution_count": null,
      "outputs": [
        {
          "output_type": "execute_result",
          "data": {
            "text/plain": [
              "35.0"
            ]
          },
          "metadata": {},
          "execution_count": 125
        }
      ]
    },
    {
      "cell_type": "code",
      "source": [
        "# Boolen value\n",
        "true=1\n",
        "false= 0\n",
        "true-false\n"
      ],
      "metadata": {
        "colab": {
          "base_uri": "https://localhost:8080/"
        },
        "id": "r07-mFIm9bwB",
        "outputId": "b7d33263-4210-4265-96e4-1343b265a925"
      },
      "execution_count": null,
      "outputs": [
        {
          "output_type": "execute_result",
          "data": {
            "text/plain": [
              "1"
            ]
          },
          "metadata": {},
          "execution_count": 129
        }
      ]
    },
    {
      "cell_type": "markdown",
      "source": [
        "10. Write code to demonstrate type casting with list elements."
      ],
      "metadata": {
        "id": "FgNdr1WNBIVo"
      }
    },
    {
      "cell_type": "code",
      "source": [
        "new_list=[1,2,3,4]\n",
        "new_list=map(str,[1,2,3,4])"
      ],
      "metadata": {
        "id": "ZY0dDmIx-6I8"
      },
      "execution_count": null,
      "outputs": []
    },
    {
      "cell_type": "markdown",
      "source": [],
      "metadata": {
        "id": "7IrVDarY-5zf"
      }
    },
    {
      "cell_type": "markdown",
      "source": [
        "12. Write a for loop to print numbers from 1 to 10"
      ],
      "metadata": {
        "id": "kte2GEEpwl67"
      }
    },
    {
      "cell_type": "code",
      "source": [
        "for i in range (1,11):\n",
        "  print(i)"
      ],
      "metadata": {
        "colab": {
          "base_uri": "https://localhost:8080/"
        },
        "id": "ljCW5ALJwoB6",
        "outputId": "a3d312a6-93bf-482a-c000-e8f2bd781c2a"
      },
      "execution_count": null,
      "outputs": [
        {
          "output_type": "stream",
          "name": "stdout",
          "text": [
            "1\n",
            "2\n",
            "3\n",
            "4\n",
            "5\n",
            "6\n",
            "7\n",
            "8\n",
            "9\n",
            "10\n"
          ]
        }
      ]
    },
    {
      "cell_type": "markdown",
      "source": [],
      "metadata": {
        "id": "S0FmPpzyyoin"
      }
    },
    {
      "cell_type": "markdown",
      "source": [
        "13. Write a Python program to find the sum of all even numbers between 1 and 50.\n",
        "\n"
      ],
      "metadata": {
        "id": "Dw5Rjoo-pL43"
      }
    },
    {
      "cell_type": "code",
      "source": [
        "i=1\n",
        "sum=0\n",
        "while(i<=50):\n",
        "  if(i%2==0):\n",
        "    sum=sum+i\n",
        "  i=i+1\n",
        "print(sum)"
      ],
      "metadata": {
        "id": "1VV8QytOw4P3",
        "colab": {
          "base_uri": "https://localhost:8080/"
        },
        "outputId": "4dcc76b9-5851-4727-90cf-a3f3245e09e1"
      },
      "execution_count": 2,
      "outputs": [
        {
          "output_type": "stream",
          "name": "stdout",
          "text": [
            "650\n"
          ]
        }
      ]
    },
    {
      "cell_type": "markdown",
      "source": [
        "15. Write a Python program to calculate the factorial of a number provided by the user using a while loop\n"
      ],
      "metadata": {
        "id": "N-yk8-Pxr96o"
      }
    },
    {
      "cell_type": "code",
      "source": [
        "n=int(input(\"inter any number:\"))\n",
        "fact=1\n",
        "for i in range(1, n+1):\n",
        "  fact=fact*i\n",
        "  print(fact)"
      ],
      "metadata": {
        "id": "M95oxq6IymKU",
        "colab": {
          "base_uri": "https://localhost:8080/"
        },
        "outputId": "1425727f-a9cb-46d8-a8f8-b25bc0642756"
      },
      "execution_count": 5,
      "outputs": [
        {
          "output_type": "stream",
          "name": "stdout",
          "text": [
            "inter any number:10\n",
            "1\n",
            "2\n",
            "6\n",
            "24\n",
            "120\n",
            "720\n",
            "5040\n",
            "40320\n",
            "362880\n",
            "3628800\n"
          ]
        }
      ]
    },
    {
      "cell_type": "markdown",
      "source": [],
      "metadata": {
        "id": "lW3birS1r6xJ"
      }
    },
    {
      "cell_type": "markdown",
      "source": [],
      "metadata": {
        "id": "x7MCAxCDyleD"
      }
    }
  ]
}